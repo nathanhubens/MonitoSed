{
 "cells": [
  {
   "cell_type": "markdown",
   "metadata": {},
   "source": [
    "# MonitoSed\n",
    "\n",
    "> A repo for MonitoSed"
   ]
  },
  {
   "cell_type": "markdown",
   "metadata": {},
   "source": [
    "This file will become your README and also the index of your documentation."
   ]
  },
  {
   "cell_type": "markdown",
   "metadata": {},
   "source": [
    "## Install"
   ]
  },
  {
   "cell_type": "markdown",
   "metadata": {},
   "source": [
    "```sh\n",
    "pip install MonitoSed\n",
    "```"
   ]
  },
  {
   "cell_type": "markdown",
   "metadata": {},
   "source": [
    "## How to use"
   ]
  },
  {
   "cell_type": "markdown",
   "metadata": {},
   "source": [
    "```sh\n",
    "from monitosed.data.core import *\n",
    "from monitosed.models import *\n",
    "from monitosed.losses import *\n",
    "```"
   ]
  },
  {
   "cell_type": "markdown",
   "metadata": {},
   "source": [
    "## Partners"
   ]
  },
  {
   "cell_type": "markdown",
   "metadata": {},
   "source": [
    "<div style=\"display: flex; justify-content: space-between;\">\n",
    "  <img src=\"images/biowin.png\" style=\"width: 16%;\">\n",
    "  <img src=\"images/hypnovr.png\" style=\"width: 16%;\">\n",
    "  <img src=\"images/isia.png\" style=\"width: 16%;\">\n",
    "  <img src=\"images/liege.png\" style=\"width: 16%;\">\n",
    "  <img src=\"images/oncomfort.png\" style=\"width: 16%;\">\n",
    "  <img src=\"images/spw.png\" style=\"width: 16%;\">\n",
    "</div>\n"
   ]
  },
  {
   "cell_type": "markdown",
   "metadata": {},
   "source": []
  }
 ],
 "metadata": {
  "kernelspec": {
   "display_name": "python3",
   "language": "python",
   "name": "python3"
  }
 },
 "nbformat": 4,
 "nbformat_minor": 4
}
