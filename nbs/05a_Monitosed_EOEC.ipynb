{
 "cells": [
  {
   "cell_type": "raw",
   "metadata": {},
   "source": [
    "---\n",
    "description: Monitosed EOEC\n",
    "output-file: tutorial.monitosed_eoec.html\n",
    "title: Monitosed EOEC\n",
    "skip_showdoc: true\n",
    "skip_exec: true\n",
    "---"
   ]
  },
  {
   "cell_type": "code",
   "execution_count": null,
   "metadata": {},
   "outputs": [],
   "source": [
    "x,y  = preprocess_files_eoec(eeg_dir)\n",
    "dls = create_dls_eoec(x, y, bs)"
   ]
  },
  {
   "cell_type": "markdown",
   "metadata": {},
   "source": [
    "## Train the auto-encoder"
   ]
  },
  {
   "cell_type": "code",
   "execution_count": null,
   "metadata": {},
   "outputs": [],
   "source": [
    "ae_filename = ''\n",
    "acc_factor = 1\n",
    "model = stagerNetAAE(latent_dim=64, channels=x.shape[1], timestamps=x.shape[-1], acc_factor=acc_factor, dropout_rate=.3)\n",
    "\n",
    "metrics = [rmse]\n",
    "learn = Learner(dls, model, loss_func = model.ae_loss_func, metrics=metrics, opt_func=ranger)\n",
    "learning_rate = learn.lr_find()\n",
    "print('learning rate: '+str(learning_rate.valley))\n",
    "learn.fit_flat_cos(n_epoch=100, lr=learning_rate.valley, \n",
    "                   cbs=[\n",
    "                        GradientAccumulation(n_acc=dls.bs*acc_factor),\n",
    "                        TrackerCallback(),\n",
    "                        SaveModelCallback(fname=ae_filename),\n",
    "                        EarlyStoppingCallback(min_delta=1e-4,patience=10)])\n",
    "\n",
    "state_dict = torch.load(f'models/{ae_filename}.pth') # load the best weights"
   ]
  },
  {
   "cell_type": "markdown",
   "metadata": {},
   "source": [
    "## Train the Adversarial part"
   ]
  },
  {
   "cell_type": "code",
   "execution_count": null,
   "metadata": {},
   "outputs": [],
   "source": [
    "model = stagerNetAAE(latent_dim=64, channels=x.shape[1], timestamps=x.shape[-1], acc_factor=acc_factor, adv_weight=0.9, recons_weight=0.1, dropout_rate=.3)\n",
    "model.load_state_dict(state_dict, strict=False)\n",
    "adv_filename = 'monitosed_pretrained_LEMON_aae_10s_EC_EO'\n",
    "\n",
    "metrics = [LossAttrMetric(\"recons_loss\"),\n",
    "           LossAttrMetric(\"adv_loss\")]\n",
    "learn = Learner(dls, model, loss_func=model.aae_loss_func_monitosed,\n",
    "               metrics=metrics, opt_func=ranger)\n",
    "\n",
    "learn.fit_flat_cos(50, lr=2e-3,\n",
    "                        cbs=[\n",
    "                            GradientAccumulation(n_acc=dls.bs*acc_factor),\n",
    "                            TrackerCallback(monitor='valid_loss'),\n",
    "                            SaveModelCallback(fname=adv_filename, monitor='valid_loss'),\n",
    "                            EarlyStoppingCallback(min_delta=1e-4,patience=10,monitor='valid_loss'),\n",
    "                            UnfreezeFcCrit(switch_every=2)])\n",
    "\n",
    "state_dict = torch.load(f'models/{adv_filename}.pth') # load the best weights"
   ]
  },
  {
   "cell_type": "code",
   "execution_count": null,
   "metadata": {},
   "outputs": [],
   "source": [
    "save_path = ''\n",
    "\n",
    "z, target = extract_latent(state_dict, save_path, save)\n",
    "plot_results(z.to(device),target.cpu(),filename=save_path)"
   ]
  },
  {
   "cell_type": "markdown",
   "metadata": {},
   "source": [
    "## Train the Classifier part"
   ]
  },
  {
   "cell_type": "code",
   "execution_count": null,
   "metadata": {},
   "outputs": [],
   "source": [
    "model = stagerNetAAE(latent_dim=64, channels=x.shape[1], timestamps=x.shape[-1], acc_factor=acc_factor, dropout_rate=.3, recons_weight=.1, adv_weight=.4, classif_weight=.5)\n",
    "model.load_state_dict(state_dict, strict=False)\n",
    "classif_filename = 'monitosed_pretrained_LEMON_aae_classif_10s_EC_EO'\n",
    "\n",
    "metrics = [accuracy, LossAttrMetric(\"recons_loss\"),\n",
    "           LossAttrMetric(\"adv_loss\"),\n",
    "           LossAttrMetric(\"classif_loss\")]\n",
    "learn = Learner(dls, model, loss_func=model.aae_classif_loss_func_monitosed,\n",
    "               metrics=metrics, opt_func=ranger)\n",
    "\n",
    "learn.fit_flat_cos(50, lr=1e-3,\n",
    "                        cbs=[\n",
    "                            GradientAccumulation(n_acc=dls.bs*acc_factor),\n",
    "                            TrackerCallback(monitor='valid_loss'),\n",
    "                            SaveModelCallback(fname=classif_filename, monitor='valid_loss'),\n",
    "                            EarlyStoppingCallback(min_delta=1e-4,patience=10,monitor='valid_loss'),\n",
    "                            UnfreezeFcCrit(switch_every=5)])\n",
    "\n",
    "state_dict = torch.load(f'models/{classif_filename}.pth') # load the best weights"
   ]
  },
  {
   "cell_type": "code",
   "execution_count": null,
   "metadata": {},
   "outputs": [],
   "source": [
    "save_path = ''\n",
    "\n",
    "z, target = extract_latent(state_dict, save_path, save)\n",
    "plot_results(z.to(device),target.cpu(),filename=save_path)"
   ]
  }
 ],
 "metadata": {
  "kernelspec": {
   "display_name": "python3",
   "language": "python",
   "name": "python3"
  }
 },
 "nbformat": 4,
 "nbformat_minor": 4
}
