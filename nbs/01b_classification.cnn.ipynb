{
 "cells": [
  {
   "cell_type": "markdown",
   "id": "61b0733e",
   "metadata": {},
   "source": [
    "# classification.cnn\n",
    "\n",
    "> Fill in a module description here"
   ]
  },
  {
   "cell_type": "code",
   "execution_count": null,
   "id": "c24e6d24",
   "metadata": {},
   "outputs": [],
   "source": [
    "from monitosed.classification.core import *\n",
    "from monitosed.data.core import *\n",
    "\n",
    "from fastcore.xtras import Path\n",
    "from tsai.all import *\n",
    "from einops import rearrange, repeat\n",
    "\n",
    "%load_ext autoreload\n",
    "%autoreload 2"
   ]
  },
  {
   "cell_type": "code",
   "execution_count": null,
   "id": "fa8c15ae",
   "metadata": {},
   "outputs": [],
   "source": [
    "users, labels = get_users_labels('../_data/Smarthy2_Behavioral.xlsx', drop_ixs=[0,2,7, 12, 13, 16])"
   ]
  },
  {
   "cell_type": "code",
   "execution_count": null,
   "id": "0e5683cb",
   "metadata": {},
   "outputs": [
    {
     "data": {
      "text/plain": [
       "(#14) [Path('../_data/foot1/Rest/VR23_RestStim_data_clean.mat'),Path('../_data/foot1/Rest/VR20_Reststim_data_clean.mat'),Path('../_data/foot1/Rest/VR26_Reststim_data_clean.mat'),Path('../_data/foot1/Rest/VR31_Reststim_data_clean.mat'),Path('../_data/foot1/Rest/VR27_Reststim_data_clean.mat'),Path('../_data/foot1/Rest/VR40_RestStim_data_clean.mat'),Path('../_data/foot1/Rest/VR51_RestStim_data_clean.mat'),Path('../_data/foot1/Rest/VR41_RestStim_data_clean.mat'),Path('../_data/foot1/Rest/VR38_RestStim_data_clean.mat'),Path('../_data/foot1/Rest/VR35_RestStim_data_clean.mat')...]"
      ]
     },
     "execution_count": null,
     "metadata": {},
     "output_type": "execute_result"
    }
   ],
   "source": [
    "path = Path(\"../_data/foot1/Rest\"); path.ls()"
   ]
  },
  {
   "cell_type": "code",
   "execution_count": null,
   "id": "a68ede04",
   "metadata": {},
   "outputs": [
    {
     "data": {
      "application/vnd.jupyter.widget-view+json": {
       "model_id": "f8ac360bab934bc5a23aff93dfee527f",
       "version_major": 2,
       "version_minor": 0
      },
      "text/plain": [
       "  0%|          | 0/3 [00:00<?, ?it/s]"
      ]
     },
     "metadata": {},
     "output_type": "display_data"
    },
    {
     "name": "stdout",
     "output_type": "stream",
     "text": [
      "Loading: VR23_RestStim_data_clean.mat\n",
      "Loading: VR20_Reststim_data_clean.mat\n",
      "Loading: VR26_Reststim_data_clean.mat\n"
     ]
    }
   ],
   "source": [
    "mats = load_mats(path, 3)"
   ]
  },
  {
   "cell_type": "code",
   "execution_count": null,
   "id": "65d4ee5e",
   "metadata": {},
   "outputs": [],
   "source": [
    "getters = [ItemGetter(0), ItemGetter(1)]"
   ]
  },
  {
   "cell_type": "code",
   "execution_count": null,
   "id": "33701cd2",
   "metadata": {},
   "outputs": [],
   "source": [
    "valid_pct = 0.2\n",
    "train_ix = int((1-valid_pct)*len(mats))"
   ]
  },
  {
   "cell_type": "code",
   "execution_count": null,
   "id": "63310d43",
   "metadata": {},
   "outputs": [],
   "source": [
    "#train_data = prepare_train_data(mats, train_ix)"
   ]
  },
  {
   "cell_type": "code",
   "execution_count": null,
   "id": "fb9d8095",
   "metadata": {},
   "outputs": [],
   "source": []
  },
  {
   "cell_type": "code",
   "execution_count": null,
   "id": "8ba4d80d",
   "metadata": {},
   "outputs": [],
   "source": [
    "#Optional\n",
    "signal_len = 1500"
   ]
  },
  {
   "cell_type": "code",
   "execution_count": null,
   "id": "d86ab1ef",
   "metadata": {},
   "outputs": [
    {
     "data": {
      "text/plain": [
       "(168, 173, 1500)"
      ]
     },
     "execution_count": null,
     "metadata": {},
     "output_type": "execute_result"
    }
   ],
   "source": [
    "data = prepare_train_data(mats)\n",
    "if signal_len: data = data[..., :signal_len]\n",
    "data.shape"
   ]
  },
  {
   "cell_type": "code",
   "execution_count": null,
   "id": "58740499",
   "metadata": {},
   "outputs": [],
   "source": [
    "read_mats = [read_data(mat) for mat in mats]\n",
    "new_rearrange = partial(rearrange, pattern='d0 d1 d2 -> (d0 d1) d2')\n",
    "rearranged_mats = [new_rearrange(mat) for mat in read_mats]"
   ]
  },
  {
   "cell_type": "code",
   "execution_count": null,
   "id": "79a9bff3",
   "metadata": {},
   "outputs": [
    {
     "data": {
      "text/plain": [
       "(torch.Size([29064, 1, 1500]), (29064,))"
      ]
     },
     "execution_count": null,
     "metadata": {},
     "output_type": "execute_result"
    }
   ],
   "source": [
    "x = torch.from_numpy(np.concatenate(data, axis=0)).unsqueeze(1)\n",
    "y = np.concatenate([np.repeat(labels.values[i], rearranged_mats[i].shape[0]) for i in range(len(mats))])\n",
    "x.shape, y.shape"
   ]
  },
  {
   "cell_type": "code",
   "execution_count": null,
   "id": "91d24b6f",
   "metadata": {},
   "outputs": [],
   "source": [
    "x = torch.tensor(x, dtype=torch.float32)\n",
    "y = torch.tensor(y, dtype=torch.float32)"
   ]
  },
  {
   "cell_type": "code",
   "execution_count": null,
   "id": "f5e48e88",
   "metadata": {},
   "outputs": [],
   "source": [
    "n_train_sample = np.concatenate(rearranged_mats[:train_ix]).shape[0]"
   ]
  },
  {
   "cell_type": "code",
   "execution_count": null,
   "id": "3fecb5c6",
   "metadata": {},
   "outputs": [],
   "source": [
    "splits = (np.arange(0, n_train_sample), np.arange(n_train_sample, len(x)))"
   ]
  },
  {
   "cell_type": "code",
   "execution_count": null,
   "id": "8eeb907c",
   "metadata": {},
   "outputs": [],
   "source": [
    "tfms  = [None, [TSRegression()]]\n",
    "batch_tfms = TSStandardize(by_sample=True, by_var=True)\n",
    "dls = get_ts_dls(x, y, splits=splits, tfms=tfms, batch_tfms=batch_tfms, bs=128)"
   ]
  },
  {
   "cell_type": "code",
   "execution_count": null,
   "id": "5b894ce3",
   "metadata": {},
   "outputs": [
    {
     "data": {
      "text/plain": [
       "(tensor([[[ 0.2108,  0.1261,  0.0985,  ..., -2.3576, -1.7510, -1.0727]],\n",
       " \n",
       "         [[ 1.3280,  1.4398,  1.5988,  ...,  2.6372,  1.9485,  1.1603]],\n",
       " \n",
       "         [[ 1.8887,  1.7433,  1.4770,  ..., -3.0836, -2.7960, -2.3194]],\n",
       " \n",
       "         ...,\n",
       " \n",
       "         [[-0.4133, -0.7122, -1.0061,  ..., -0.0374,  0.8565,  2.0192]],\n",
       " \n",
       "         [[ 7.3648,  6.5977,  5.7735,  ...,  3.5563,  3.4836,  3.1976]],\n",
       " \n",
       "         [[-0.6494, -0.5712, -0.3500,  ...,  3.2091,  2.9592,  2.6226]]],\n",
       "        device='cuda:0'),\n",
       " tensor([1.0000, 1.3000, 1.3000, 1.3000, 1.0000, 1.0000, 1.0000, 1.0000, 1.3000,\n",
       "         1.0000, 1.0000, 1.0000, 1.3000, 1.0000, 1.0000, 1.0000, 1.3000, 1.3000,\n",
       "         1.0000, 1.3000, 1.3000, 1.0000, 1.3000, 1.0000, 1.0000, 1.0000, 1.3000,\n",
       "         1.0000, 1.3000, 1.0000, 1.0000, 1.0000, 1.0000, 1.0000, 1.0000, 1.3000,\n",
       "         1.0000, 1.3000, 1.3000, 1.3000, 1.3000, 1.3000, 1.3000, 1.0000, 1.0000,\n",
       "         1.0000, 1.3000, 1.0000, 1.0000, 1.0000, 1.0000, 1.0000, 1.3000, 1.0000,\n",
       "         1.0000, 1.0000, 1.3000, 1.3000, 1.0000, 1.0000, 1.0000, 1.0000, 1.3000,\n",
       "         1.3000, 1.3000, 1.0000, 1.0000, 1.3000, 1.3000, 1.3000, 1.0000, 1.3000,\n",
       "         1.3000, 1.0000, 1.0000, 1.3000, 1.3000, 1.3000, 1.0000, 1.0000, 1.3000,\n",
       "         1.3000, 1.3000, 1.0000, 1.3000, 1.3000, 1.3000, 1.3000, 1.0000, 1.0000,\n",
       "         1.3000, 1.3000, 1.3000, 1.0000, 1.0000, 1.0000, 1.0000, 1.3000, 1.0000,\n",
       "         1.0000, 1.0000, 1.0000, 1.3000, 1.3000, 1.3000, 1.3000, 1.3000, 1.0000,\n",
       "         1.3000, 1.0000, 1.3000, 1.3000, 1.3000, 1.0000, 1.3000, 1.3000, 1.0000,\n",
       "         1.3000, 1.3000, 1.0000, 1.3000, 1.0000, 1.3000, 1.3000, 1.3000, 1.3000,\n",
       "         1.0000, 1.0000], device='cuda:0'))"
      ]
     },
     "execution_count": null,
     "metadata": {},
     "output_type": "execute_result"
    }
   ],
   "source": [
    "xb,yb = dls.one_batch(); xb,yb"
   ]
  },
  {
   "cell_type": "code",
   "execution_count": null,
   "id": "4c15bfd7",
   "metadata": {},
   "outputs": [],
   "source": []
  },
  {
   "cell_type": "code",
   "execution_count": null,
   "id": "011be514",
   "metadata": {},
   "outputs": [],
   "source": [
    "class CustomLoss(nn.Module):\n",
    "    def __init__(self, size_average=None, reduce=None, alpha=0.5, reduction: str = 'mean') -> None:\n",
    "        super(CustomLoss, self).__init__()\n",
    "        store_attr()\n",
    "\n",
    "    def forward(self, input: Tensor, target: Tensor) -> Tensor:\n",
    "        l1 = F.l1_loss(input, target, reduction=self.reduction)\n",
    "        mse = F.mse_loss(input, target, reduction=self.reduction)\n",
    "        return self.alpha*l1 + (1-self.alpha)*mse"
   ]
  },
  {
   "cell_type": "code",
   "execution_count": null,
   "id": "5c54833b",
   "metadata": {},
   "outputs": [
    {
     "data": {
      "text/html": [
       "\n",
       "<style>\n",
       "    /* Turns off some styling */\n",
       "    progress {\n",
       "        /* gets rid of default border in Firefox and Opera. */\n",
       "        border: none;\n",
       "        /* Needs to be in here for Safari polyfill so background images work as expected. */\n",
       "        background-size: auto;\n",
       "    }\n",
       "    .progress-bar-interrupted, .progress-bar-interrupted::-webkit-progress-bar {\n",
       "        background: #F44336;\n",
       "    }\n",
       "</style>\n"
      ],
      "text/plain": [
       "<IPython.core.display.HTML object>"
      ]
     },
     "metadata": {},
     "output_type": "display_data"
    },
    {
     "data": {
      "text/html": [],
      "text/plain": [
       "<IPython.core.display.HTML object>"
      ]
     },
     "metadata": {},
     "output_type": "display_data"
    },
    {
     "data": {
      "text/plain": [
       "SuggestedLRs(valley=0.0004786300996784121)"
      ]
     },
     "execution_count": null,
     "metadata": {},
     "output_type": "execute_result"
    },
    {
     "data": {
      "image/png": "[encoded data removed]",
      "text/plain": [
       "<Figure size 432x288 with 1 Axes>"
      ]
     },
     "metadata": {
      "needs_background": "light"
     },
     "output_type": "display_data"
    }
   ],
   "source": [
    "learn = ts_learner(dls, InceptionTime, loss_func=CustomLoss(), metrics=[mae, rmse], cbs=ShowGraph())\n",
    "learn.lr_find()"
   ]
  },
  {
   "cell_type": "code",
   "execution_count": null,
   "id": "8dc23f6f",
   "metadata": {},
   "outputs": [
    {
     "data": {
      "text/html": [
       "\n",
       "<style>\n",
       "    /* Turns off some styling */\n",
       "    progress {\n",
       "        /* gets rid of default border in Firefox and Opera. */\n",
       "        border: none;\n",
       "        /* Needs to be in here for Safari polyfill so background images work as expected. */\n",
       "        background-size: auto;\n",
       "    }\n",
       "    .progress-bar-interrupted, .progress-bar-interrupted::-webkit-progress-bar {\n",
       "        background: #F44336;\n",
       "    }\n",
       "</style>\n"
      ],
      "text/plain": [
       "<IPython.core.display.HTML object>"
      ]
     },
     "metadata": {},
     "output_type": "display_data"
    },
    {
     "data": {
      "text/html": [
       "<table border=\"1\" class=\"dataframe\">\n",
       "  <thead>\n",
       "    <tr style=\"text-align: left;\">\n",
       "      <th>epoch</th>\n",
       "      <th>train_loss</th>\n",
       "      <th>valid_loss</th>\n",
       "      <th>mae</th>\n",
       "      <th>_rmse</th>\n",
       "      <th>time</th>\n",
       "    </tr>\n",
       "  </thead>\n",
       "  <tbody>\n",
       "    <tr>\n",
       "      <td>0</td>\n",
       "      <td>0.097351</td>\n",
       "      <td>20.863531</td>\n",
       "      <td>5.978811</td>\n",
       "      <td>5.978984</td>\n",
       "      <td>00:41</td>\n",
       "    </tr>\n",
       "    <tr>\n",
       "      <td>1</td>\n",
       "      <td>0.092938</td>\n",
       "      <td>20.839495</td>\n",
       "      <td>5.975148</td>\n",
       "      <td>5.975269</td>\n",
       "      <td>00:41</td>\n",
       "    </tr>\n",
       "    <tr>\n",
       "      <td>2</td>\n",
       "      <td>0.088180</td>\n",
       "      <td>19.900284</td>\n",
       "      <td>5.828542</td>\n",
       "      <td>5.828554</td>\n",
       "      <td>00:41</td>\n",
       "    </tr>\n",
       "    <tr>\n",
       "      <td>3</td>\n",
       "      <td>0.087890</td>\n",
       "      <td>20.167507</td>\n",
       "      <td>5.870635</td>\n",
       "      <td>5.870637</td>\n",
       "      <td>00:41</td>\n",
       "    </tr>\n",
       "    <tr>\n",
       "      <td>4</td>\n",
       "      <td>0.086565</td>\n",
       "      <td>19.936205</td>\n",
       "      <td>5.834224</td>\n",
       "      <td>5.834225</td>\n",
       "      <td>00:41</td>\n",
       "    </tr>\n",
       "  </tbody>\n",
       "</table>"
      ],
      "text/plain": [
       "<IPython.core.display.HTML object>"
      ]
     },
     "metadata": {},
     "output_type": "display_data"
    },
    {
     "data": {
      "image/png": "[encoded data removed]",
      "text/plain": [
       "<Figure size 432x288 with 1 Axes>"
      ]
     },
     "metadata": {},
     "output_type": "display_data"
    },
    {
     "data": {
      "image/png": "[encoded data removed]",
      "text/plain": [
       "<Figure size 936x648 with 4 Axes>"
      ]
     },
     "metadata": {
      "needs_background": "light"
     },
     "output_type": "display_data"
    }
   ],
   "source": [
    "learn.fit_one_cycle(5, 1e-2)"
   ]
  },
  {
   "cell_type": "code",
   "execution_count": null,
   "id": "0ef94969",
   "metadata": {},
   "outputs": [],
   "source": []
  }
 ],
 "metadata": {
  "kernelspec": {
   "display_name": "python3",
   "language": "python",
   "name": "python3"
  }
 },
 "nbformat": 4,
 "nbformat_minor": 5
}
