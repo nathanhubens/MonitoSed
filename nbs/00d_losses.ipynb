{
 "cells": [
  {
   "cell_type": "raw",
   "id": "0916c94b",
   "metadata": {},
   "source": [
    "---\n",
    "skip_showdoc: true\n",
    "skip_exec: true\n",
    "---"
   ]
  },
  {
   "cell_type": "markdown",
   "id": "1e4e40f6",
   "metadata": {},
   "source": [
    "# losses\n",
    "\n",
    "> Fill in a module description here"
   ]
  },
  {
   "cell_type": "code",
   "execution_count": null,
   "id": "bcc0527f",
   "metadata": {},
   "outputs": [],
   "source": [
    "#| default_exp losses"
   ]
  },
  {
   "cell_type": "code",
   "execution_count": null,
   "id": "aa2a877f",
   "metadata": {},
   "outputs": [],
   "source": [
    "#| export\n",
    "import torch\n",
    "import torch.nn as nn\n",
    "import torch.nn.functional as F"
   ]
  },
  {
   "cell_type": "code",
   "execution_count": null,
   "id": "6e9504cb",
   "metadata": {},
   "outputs": [],
   "source": [
    "#| export\n",
    "class CustomLoss(nn.Module):\n",
    "    def __init__(self, size_average=None, reduce=None, alpha=0.5, reduction: str = 'mean') -> None:\n",
    "        super(CustomLoss, self).__init__()\n",
    "        store_attr()\n",
    "\n",
    "    def forward(self, input: torch.Tensor, target: torch.Tensor) -> torch.Tensor:\n",
    "        l1 = F.l1_loss(input, target, reduction=self.reduction)\n",
    "        mse = F.mse_loss(input, target, reduction=self.reduction)\n",
    "        return self.alpha*l1 + (1-self.alpha)*mse"
   ]
  },
  {
   "cell_type": "code",
   "execution_count": null,
   "id": "bf222c0f",
   "metadata": {},
   "outputs": [],
   "source": [
    "#| hide\n",
    "import nbdev; nbdev.nbdev_export()"
   ]
  }
 ],
 "metadata": {
  "kernelspec": {
   "display_name": "python3",
   "language": "python",
   "name": "python3"
  }
 },
 "nbformat": 4,
 "nbformat_minor": 5
}
