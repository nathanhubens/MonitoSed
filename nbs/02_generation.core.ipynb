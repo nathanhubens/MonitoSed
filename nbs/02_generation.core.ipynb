{
 "cells": [
  {
   "cell_type": "raw",
   "id": "e82f6a1e",
   "metadata": {},
   "source": [
    "---\n",
    "skip_showdoc: true\n",
    "skip_exec: true\n",
    "---"
   ]
  },
  {
   "cell_type": "markdown",
   "id": "1e4e40f6",
   "metadata": {},
   "source": [
    "# generation.core\n",
    "\n",
    "> Fill in a module description here"
   ]
  },
  {
   "cell_type": "code",
   "execution_count": null,
   "id": "bcc0527f",
   "metadata": {},
   "outputs": [],
   "source": [
    "#| default_exp generation.core"
   ]
  },
  {
   "cell_type": "code",
   "execution_count": null,
   "id": "bf222c0f",
   "metadata": {},
   "outputs": [],
   "source": [
    "#| hide\n",
    "import nbdev; nbdev.nbdev_export()"
   ]
  }
 ],
 "metadata": {
  "kernelspec": {
   "display_name": "python3",
   "language": "python",
   "name": "python3"
  }
 },
 "nbformat": 4,
 "nbformat_minor": 5
}
