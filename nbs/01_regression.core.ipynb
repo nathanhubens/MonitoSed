{
 "cells": [
  {
   "cell_type": "raw",
   "id": "e82f6a1e",
   "metadata": {},
   "source": [
    "---\n",
    "skip_showdoc: true\n",
    "skip_exec: true\n",
    "---"
   ]
  },
  {
   "cell_type": "markdown",
   "id": "1e4e40f6",
   "metadata": {},
   "source": [
    "# classification.core\n",
    "\n",
    "> Fill in a module description here"
   ]
  },
  {
   "cell_type": "code",
   "execution_count": null,
   "id": "bcc0527f",
   "metadata": {},
   "outputs": [],
   "source": [
    "#| default_exp classification.core"
   ]
  },
  {
   "cell_type": "code",
   "execution_count": null,
   "id": "fc688b00",
   "metadata": {},
   "outputs": [],
   "source": [
    "#| export \n",
    "from monitosed.data.core import *\n",
    "import numpy as np\n",
    "import pandas as pd\n",
    "from fastcore.basics import store_attr\n",
    "from einops import rearrange, repeat\n",
    "import torch.nn as nn\n",
    "import torch.nn.functional as F\n",
    "import torch"
   ]
  },
  {
   "cell_type": "code",
   "execution_count": null,
   "id": "974cffd5",
   "metadata": {},
   "outputs": [],
   "source": [
    "#| export\n",
    "def get_users_labels(path, label_col='R_Pain_Int', drop_ixs=None):\n",
    "    data = pd.read_excel(path)\n",
    "    labels = data['R_Pain_Int'].dropna()\n",
    "    users = data['ID'].dropna()\n",
    "    users.drop(drop_ixs, inplace=True)\n",
    "    labels.drop(drop_ixs, inplace=True)\n",
    "    return users, labels"
   ]
  },
  {
   "cell_type": "code",
   "execution_count": null,
   "id": "ef771154",
   "metadata": {},
   "outputs": [],
   "source": [
    "users, labels = get_users_labels('../_data/Smarthy2_Behavioral.xlsx', drop_ixs=[0,2,7, 12, 13, 16])"
   ]
  },
  {
   "cell_type": "code",
   "execution_count": null,
   "id": "750228d9",
   "metadata": {},
   "outputs": [],
   "source": [
    "#| export\n",
    "def stack_trials(mats, signal_len=None):\n",
    "    data = prepare_train_data(mats)\n",
    "    if signal_len: data = data[..., :signal_len]\n",
    "    x = torch.from_numpy(np.concatenate(data, axis=0)).unsqueeze(1)\n",
    "    return torch.tensor(x, dtype=torch.float32)"
   ]
  },
  {
   "cell_type": "code",
   "execution_count": null,
   "id": "ddefe287",
   "metadata": {},
   "outputs": [],
   "source": [
    "#| export\n",
    "def prepare_labels(mats, labels):\n",
    "    read_mats = [read_data(mat) for mat in mats]\n",
    "    rearranged_mats = [new_rearrange(mat) for mat in read_mats]\n",
    "    y = np.concatenate([np.repeat(labels[i], rearranged_mats[i].shape[0]) for i in range(len(mats))])\n",
    "    return torch.tensor(y, dtype=torch.float32)"
   ]
  },
  {
   "cell_type": "code",
   "execution_count": null,
   "id": "20a2bc06",
   "metadata": {},
   "outputs": [],
   "source": [
    "#| export\n",
    "class CustomLoss(nn.Module):\n",
    "    def __init__(self, size_average=None, reduce=None, alpha=0.5, reduction: str = 'mean') -> None:\n",
    "        super(CustomLoss, self).__init__()\n",
    "        store_attr()\n",
    "\n",
    "    def forward(self, input: torch.Tensor, target: torch.Tensor) -> torch.Tensor:\n",
    "        l1 = F.l1_loss(input, target, reduction=self.reduction)\n",
    "        mse = F.mse_loss(input, target, reduction=self.reduction)\n",
    "        return self.alpha*l1 + (1-self.alpha)*mse"
   ]
  },
  {
   "cell_type": "code",
   "execution_count": null,
   "id": "1642f403",
   "metadata": {},
   "outputs": [],
   "source": [
    "#| hide\n",
    "import nbdev; nbdev.nbdev_export()"
   ]
  },
  {
   "cell_type": "code",
   "execution_count": null,
   "id": "208188eb",
   "metadata": {},
   "outputs": [],
   "source": []
  }
 ],
 "metadata": {
  "kernelspec": {
   "display_name": "python3",
   "language": "python",
   "name": "python3"
  }
 },
 "nbformat": 4,
 "nbformat_minor": 5
}
