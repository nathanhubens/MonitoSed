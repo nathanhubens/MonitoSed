{
 "cells": [
  {
   "cell_type": "raw",
   "id": "f9334927",
   "metadata": {},
   "source": [
    "---\n",
    "skip_showdoc: true\n",
    "skip_exec: true\n",
    "---"
   ]
  },
  {
   "cell_type": "markdown",
   "id": "1e4e40f6",
   "metadata": {},
   "source": [
    "# classification.core\n",
    "\n",
    "> Fill in a module description here"
   ]
  },
  {
   "cell_type": "code",
   "execution_count": null,
   "id": "bcc0527f",
   "metadata": {},
   "outputs": [],
   "source": [
    "#| default_exp classification.core"
   ]
  },
  {
   "cell_type": "code",
   "execution_count": null,
   "id": "fc688b00",
   "metadata": {},
   "outputs": [],
   "source": [
    "#| export \n",
    "import pandas as pd"
   ]
  },
  {
   "cell_type": "code",
   "execution_count": null,
   "id": "974cffd5",
   "metadata": {},
   "outputs": [],
   "source": [
    "#| export\n",
    "def get_users_labels(path, label_col='R_Pain_Int', drop_ixs=None):\n",
    "    data = pd.read_excel(path)\n",
    "    labels = data['R_Pain_Int'].dropna()\n",
    "    users = data['ID'].dropna()\n",
    "    users.drop(drop_ixs, inplace=True)\n",
    "    labels.drop(drop_ixs, inplace=True)\n",
    "    return users, labels"
   ]
  },
  {
   "cell_type": "code",
   "execution_count": null,
   "id": "ef771154",
   "metadata": {},
   "outputs": [],
   "source": [
    "users, labels = get_users_labels('../_data/Smarthy2_Behavioral.xlsx', drop_ixs=[0,2,7, 12, 13, 16])"
   ]
  },
  {
   "cell_type": "code",
   "execution_count": null,
   "id": "1642f403",
   "metadata": {},
   "outputs": [],
   "source": [
    "#| hide\n",
    "import nbdev; nbdev.nbdev_export()"
   ]
  }
 ],
 "metadata": {
  "kernelspec": {
   "display_name": "python3",
   "language": "python",
   "name": "python3"
  }
 },
 "nbformat": 4,
 "nbformat_minor": 5
}
