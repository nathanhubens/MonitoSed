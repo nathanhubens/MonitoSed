{
 "cells": [
  {
   "cell_type": "raw",
   "metadata": {},
   "source": [
    "---\n",
    "skip_showdoc: true\n",
    "skip_exec: true\n",
    "---"
   ]
  },
  {
   "cell_type": "markdown",
   "metadata": {},
   "source": [
    "# training\n",
    "\n",
    "> All code related to training functions"
   ]
  },
  {
   "cell_type": "code",
   "execution_count": null,
   "metadata": {},
   "outputs": [],
   "source": [
    "#| default_exp training"
   ]
  },
  {
   "cell_type": "code",
   "execution_count": null,
   "metadata": {},
   "outputs": [],
   "source": [
    "#| include: false\n",
    "from nbdev.showdoc import *"
   ]
  },
  {
   "cell_type": "code",
   "execution_count": null,
   "metadata": {},
   "outputs": [],
   "source": [
    "#| export\n",
    "import torch"
   ]
  },
  {
   "cell_type": "code",
   "execution_count": null,
   "metadata": {},
   "outputs": [],
   "source": [
    "#| export\n",
    "def extract_latent(state_dict, save_path, save):\n",
    "    # Extract the latent space\n",
    "    model.load_state_dict(state_dict, strict=False)\n",
    "    learn = Learner(dls, model, loss_func=model.aae_loss_func_monitosed)\n",
    "    learn.zi_valid = torch.tensor([]).to(device)\n",
    "    learn.labels = torch.tensor([]).to(device)\n",
    "    learn.get_preds(ds_idx=1,cbs=[GetLatentSpace(cycle_len=1)])\n",
    "    new_zi = learn.zi_valid\n",
    "    target = torch.tensor(learn.labels)\n",
    "    if save: torch.save(new_zi, '/result/z_'+save_path+'_valid.pt')\n",
    "\n",
    "    learn.zi_valid = torch.tensor([]).to(device)\n",
    "    learn.labels = torch.tensor([]).to(device)\n",
    "    learn.get_preds(ds_idx=0,cbs=[GetLatentSpace(cycle_len=1)])\n",
    "    new_zi = torch.vstack((learn.zi_valid, new_zi))\n",
    "    target = torch.hstack((learn.labels, target))\n",
    "\n",
    "    if save: torch.save(new_zi, 'results/z_'+save_path+'.pt')\n",
    "\n",
    "    return new_zi, target"
   ]
  },
  {
   "cell_type": "code",
   "execution_count": null,
   "metadata": {},
   "outputs": [
    {
     "data": {
      "text/markdown": [
       "---\n",
       "\n",
       "### extract_latent\n",
       "\n",
       ">      extract_latent (state_dict, save_path, save)"
      ],
      "text/plain": [
       "---\n",
       "\n",
       "### extract_latent\n",
       "\n",
       ">      extract_latent (state_dict, save_path, save)"
      ]
     },
     "execution_count": null,
     "metadata": {},
     "output_type": "execute_result"
    }
   ],
   "source": [
    "show_doc(extract_latent)"
   ]
  },
  {
   "cell_type": "code",
   "execution_count": null,
   "metadata": {},
   "outputs": [],
   "source": []
  }
 ],
 "metadata": {
  "kernelspec": {
   "display_name": "python3",
   "language": "python",
   "name": "python3"
  }
 },
 "nbformat": 4,
 "nbformat_minor": 2
}
