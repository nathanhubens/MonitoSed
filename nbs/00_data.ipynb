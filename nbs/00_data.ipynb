{
 "cells": [
  {
   "cell_type": "raw",
   "metadata": {},
   "source": [
    "---\n",
    "skip_showdoc: true\n",
    "skip_exec: true\n",
    "---"
   ]
  },
  {
   "cell_type": "markdown",
   "metadata": {},
   "source": [
    "# data\n",
    "\n",
    "> All the utility code related to data loading and processing"
   ]
  },
  {
   "cell_type": "code",
   "execution_count": null,
   "metadata": {},
   "outputs": [],
   "source": [
    "#| default_exp data.core"
   ]
  },
  {
   "cell_type": "code",
   "execution_count": null,
   "metadata": {},
   "outputs": [],
   "source": [
    "#| include: false\n",
    "from nbdev.showdoc import *"
   ]
  },
  {
   "cell_type": "code",
   "execution_count": null,
   "metadata": {},
   "outputs": [],
   "source": [
    "#| export \n",
    "import torch\n",
    "from torch.utils.data import TensorDataset\n",
    "from fastai.tabular.all import *\n",
    "from tsai.all import *"
   ]
  },
  {
   "cell_type": "code",
   "execution_count": null,
   "metadata": {},
   "outputs": [],
   "source": [
    "#| export \n",
    "def create_dls(x, y, bs, is_rest=True):\n",
    "    # Transfer Learning to BIOWIN data\n",
    "    # # Normalize input data\n",
    "    eps = 1e-08\n",
    "    mean = torch.nanmean(x, dim=2)\n",
    "    std = torch.clamp_min(torch.std(x, dim=2), eps)\n",
    "    x_norm = torch.stack([torch.vstack([(x[j,i,:]-mean[j,i])/torch.clamp_min(std[j,i], eps)\n",
    "                        for i in range(x.shape[1])]) \n",
    "                        for j in range(x.shape[0])],dim=0)\n",
    "    x_norm = torch.clamp_min(x_norm,-3)\n",
    "    x_norm = torch.clamp_max(x_norm,3).float()\n",
    "\n",
    "    # Load the labels\n",
    "    if is_rest: \n",
    "        y_tensor = torch.tensor([[0, 1] if lab == 0 else [1, 0] for lab in y], device=device).float()\n",
    "    else: \n",
    "        y_tensor = torch.tensor([[0, 1] if lab == 1 else [1, 0] for lab in y], device=device).float()\n",
    "\n",
    "    # Create a TensorDataset\n",
    "    ds = TensorDataset(x_norm, y_tensor)\n",
    "\n",
    "    # Split your dataset into training and validation sets\n",
    "    split = RandomSplitter(valid_pct=0.2, seed=42)(ds)\n",
    "    train_ds = torch.utils.data.Subset(ds, split[0])\n",
    "    valid_ds = torch.utils.data.Subset(ds, split[1])\n",
    "\n",
    "    # Create DataLoaders\n",
    "    dls = DataLoaders.from_dsets(train_ds, valid_ds, bs=bs, num_workers=0)\n",
    "\n",
    "    return dls"
   ]
  },
  {
   "cell_type": "code",
   "execution_count": null,
   "metadata": {},
   "outputs": [
    {
     "data": {
      "text/markdown": [
       "---\n",
       "\n",
       "### create_dls\n",
       "\n",
       ">      create_dls (x, y, bs, is_rest=True)"
      ],
      "text/plain": [
       "---\n",
       "\n",
       "### create_dls\n",
       "\n",
       ">      create_dls (x, y, bs, is_rest=True)"
      ]
     },
     "execution_count": null,
     "metadata": {},
     "output_type": "execute_result"
    }
   ],
   "source": [
    "show_doc(create_dls)"
   ]
  },
  {
   "cell_type": "markdown",
   "metadata": {},
   "source": [
    "## Test the dls creation\n",
    "..."
   ]
  },
  {
   "cell_type": "code",
   "execution_count": null,
   "metadata": {},
   "outputs": [],
   "source": [
    "#| export\n",
    "def create_dls_eoec(x, y, bs):\n",
    "    n_train_samples = int(x.shape[0]//4*3) # training set = 80% of the dataset\n",
    "    n_total_samples = x.shape[0]\n",
    "    splits = (L(range(n_train_samples), use_list=True),\n",
    "            L(np.arange(n_train_samples, n_total_samples), use_list=True))\n",
    "    splitter = IndexSplitter(splits[1])\n",
    "\n",
    "    # Create a DataLoaders object for the EEG data in input and output for the autoencoder\n",
    "    getters = [ItemGetter(0), ItemGetter(1)]\n",
    "    catblock = MultiCategoryBlock(encoded=True, vocab=['Eyes Closed', 'Eyes Open'])\n",
    "    dblock = DataBlock(blocks=(TSTensorBlock, catblock),\n",
    "                        splitter=splitter,\n",
    "                        getters=getters,\n",
    "                        batch_tfms=norm_batch())\n",
    "    src = itemify(x,y)\n",
    "    dls = dblock.dataloaders(src, bs=bs, drop_last=True)\n",
    "\n",
    "    return dls"
   ]
  },
  {
   "cell_type": "code",
   "execution_count": null,
   "metadata": {},
   "outputs": [
    {
     "data": {
      "text/markdown": [
       "---\n",
       "\n",
       "### create_dls_eoec\n",
       "\n",
       ">      create_dls_eoec (x, y, bs)"
      ],
      "text/plain": [
       "---\n",
       "\n",
       "### create_dls_eoec\n",
       "\n",
       ">      create_dls_eoec (x, y, bs)"
      ]
     },
     "execution_count": null,
     "metadata": {},
     "output_type": "execute_result"
    }
   ],
   "source": [
    "show_doc(create_dls_eoec)"
   ]
  },
  {
   "cell_type": "raw",
   "metadata": {},
   "source": [
    "## Test the dls_eoec creation\n",
    "..."
   ]
  },
  {
   "cell_type": "raw",
   "metadata": {},
   "source": []
  }
 ],
 "metadata": {
  "kernelspec": {
   "display_name": "python3",
   "language": "python",
   "name": "python3"
  }
 },
 "nbformat": 4,
 "nbformat_minor": 2
}
